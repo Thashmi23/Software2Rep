#creation of relational database
import sqlite3

conn = sqlite3.connect("trial.db")
c = conn.cursor()

#Creating the tables for the database
#First we create table for faculty with 4 parameters, ID, F_name, L_name, Password

try:
    c.execute('''CREATE TABLE faculty (
        faculty_id text PRIMARY KEY NOT NULL,
        faculty_first_name text NOT NULL,
        faculty_last_name text NOT NULL,
        password NOT NULL,
       FOREIGN KEY (faculty_id) REFERENCES course(student_id) )''')
except sqlite3.OperationalError as e:
    print('sqlite error:', e.args[0])  # table already exists

conn.commit()

def add_faculty_info():
    with conn:
        fac_id= input("Please enter Faculty ID")
        first_name= input("please enter faculty first name")
        last_name= input("faculty last name")
        password_fac= input("enter password")
        c.execute("INSERT INTO faculty (faculty_id,faculty_first_name, faculty_last_name, password) values (?, ?, ?, ?)",
                (fac_id, first_name,last_name, password_fac))

def tabletestF():
    c.execute("SELECT* FROM faculty")
    rows=c.fetchall()
    
    for row in rows:
        print(row)

print('******faculty table******')
tabletestF()
    
conn.commit()
#c.fetchone()


rows=c.fetchall()
    
for row in rows:
     print(row)


i = 1
while i <= 10:
    add_faculty_info()
    i += 1


#we try now
