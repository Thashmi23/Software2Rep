#creation of relational database
import sqlite3

conn = sqlite3.connect("student.db")
c = conn.cursor()

#Creating the tables for the database
#First we create table for faculty with 4 parameters, ID, F_name, L_name, Password

