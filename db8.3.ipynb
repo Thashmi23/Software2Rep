#creation of relational database
import sqlite3

conn = sqlite3.connect("trial.db")
c = conn.cursor()

#Creating the tables for the database
#First we create table for faculty with 4 parameters, ID, F_name, L_name, Password

try:
    c.execute('''CREATE TABLE faculty (
        faculty_id text PRIMARY KEY NOT NULL,
        faculty_first_name text NOT NULL,
        faculty_last_name text NOT NULL,
        password NOT NULL,
       FOREIGN KEY (faculty_id) REFERENCES course(student_id) )''')
except sqlite3.OperationalError as e:
    print('sqlite error:', e.args[0])  # table already exists

conn.commit()

def add_faculty():
    with conn:
        I_id= input("please enter new id number")
        first_name= input("please enter instructor first name")
        last_name= input("instructor last name")
        #c.execute("INSERT INTO students VALUES('studentId', 'firstName', 'lastName')")
        c.execute("INSERT INTO faculty (faculty_id,faculty_first_name, faculty_last_name) values (?, ?, ?)",
                (I_id, first_name,last_name))

def tabletestF():
    c.execute("SELECT* FROM faculty")
    rows=c.fetchall()
    
    for row in rows:
        print(row)

def add_passwordF():
    with conn:
        s_id= input("please enter Faculty ID ")
        passwords= input("enter password")
        #c.execute("INSERT INTO students VALUES('studentId', 'firstName', 'lastName')")
        c.execute("INSERT INTO passwordF (I_id, password) values (?, ?)",
                (s_id,passwords))

def tabletestPF():
    c.execute("SELECT* FROM passwordF")
    rows=c.fetchall()
    
    for row in rows:
        print(row)


